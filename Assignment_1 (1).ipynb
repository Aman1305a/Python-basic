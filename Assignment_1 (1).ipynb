{
  "nbformat": 4,
  "nbformat_minor": 0,
  "metadata": {
    "colab": {
      "provenance": []
    },
    "kernelspec": {
      "name": "python3",
      "display_name": "Python 3"
    },
    "language_info": {
      "name": "python"
    }
  },
  "cells": [
    {
      "cell_type": "markdown",
      "source": [
        "# PYTHON BASIC\n"
      ],
      "metadata": {
        "id": "1NleUej5lmwR"
      }
    },
    {
      "cell_type": "markdown",
      "source": [
        "Q1.  Explain the key features of Python that make it a popular choice for programming?\n",
        "## ->  Python is a programming language that is easy to understand and write.It is a open source , highlevel,interpreted scripting language.\n",
        "  \n",
        "  > The key features of python that make it a popular choice for programming are:\n",
        "\n",
        "   1>  Easy to Learn & Use.\n",
        "\n",
        "   2>  Rich ecosystem of liabraries - Pandas,Numpy etc.\n",
        "   \n",
        "   3>  Interpreted Language - Runs code line-by-line, great for debugging.\n",
        "   \n",
        "   4>  Versatile - Used in web development, data science, automation, AI, etc.\n",
        "   \n",
        "   5>  Object-Oriented & Functional - Supports multiple programming paradigms.\n",
        "   \n",
        "   6>  Cross-Platform - Runs on Windows, macOS, Linux, etc.\n",
        "   \n",
        "   7>  Extensible & Embeddable - Can integrate with C/C++ and other languages.\n",
        "   \n",
        "   8>  Free and open source.\n",
        "   \n",
        "   9>  Community - Big and active community.\n"
      ],
      "metadata": {
        "id": "uF2e6tWUl55g"
      }
    },
    {
      "cell_type": "markdown",
      "source": [
        "Q2.  Describe the role of predefined keywords in Python and provide examples of how they are used in a program?\n",
        "\n",
        "   ->  predefined keywords are reserved words that have special meanings and are used to define the structure and syntax of the language. These keywords cannot be used as variable names, function names, or any other identifiers.\n",
        "      *Examples of keywords include if, else, while, for, def, class, import, try, except, return, True, False, None, etc.\n",
        "\n",
        "   Example:\n",
        "\n",
        "   1> Conditional Statements\n",
        "\n",
        "      #  if, else, elif\n"
      ],
      "metadata": {
        "id": "UPPBAbJBsvJG"
      }
    },
    {
      "cell_type": "code",
      "source": [
        "x = 5\n",
        "if x > 10:\n",
        "    print(\"x is greater than 10\")\n",
        "else:\n",
        "    print(\"x is less than  to 10\")\n"
      ],
      "metadata": {
        "colab": {
          "base_uri": "https://localhost:8080/"
        },
        "id": "u63VNpfTwaF4",
        "outputId": "c42aa7ec-c0ec-44c4-ded4-f70e2643cdbd"
      },
      "execution_count": null,
      "outputs": [
        {
          "output_type": "stream",
          "name": "stdout",
          "text": [
            "x is less than  to 10\n"
          ]
        }
      ]
    },
    {
      "cell_type": "code",
      "source": [
        "age = 10\n",
        "if age>= 18:\n",
        "  print(\"you will served alchol\")\n",
        "else:\n",
        "  print(\"get out of bar\")"
      ],
      "metadata": {
        "colab": {
          "base_uri": "https://localhost:8080/"
        },
        "id": "kseL-0TNyuCO",
        "outputId": "8a3b33a7-0f32-4564-902e-23d315a760f0"
      },
      "execution_count": null,
      "outputs": [
        {
          "output_type": "stream",
          "name": "stdout",
          "text": [
            "get out of bar\n"
          ]
        }
      ]
    },
    {
      "cell_type": "markdown",
      "source": [
        "2>  Loop Statements\n",
        "\n",
        "# while"
      ],
      "metadata": {
        "id": "O5Nq_M6jz1pN"
      }
    },
    {
      "cell_type": "code",
      "source": [
        "for i in range(10):\n",
        "    print(i)"
      ],
      "metadata": {
        "colab": {
          "base_uri": "https://localhost:8080/"
        },
        "id": "SLX_jtPW0EtE",
        "outputId": "ed4d431e-c374-4b4d-83dc-b496b5905f5d"
      },
      "execution_count": null,
      "outputs": [
        {
          "output_type": "stream",
          "name": "stdout",
          "text": [
            "0\n",
            "1\n",
            "2\n",
            "3\n",
            "4\n",
            "5\n",
            "6\n",
            "7\n",
            "8\n",
            "9\n"
          ]
        }
      ]
    },
    {
      "cell_type": "markdown",
      "source": [
        "3> Control Statements\n",
        "\n",
        "# break"
      ],
      "metadata": {
        "id": "pkLZM6oH2MI-"
      }
    },
    {
      "cell_type": "code",
      "source": [
        "x = 7\n",
        "y = 1\n",
        "while y<x:\n",
        "  print(y)\n",
        "  y=y+1\n",
        "  if y == 3:\n",
        "    break\n"
      ],
      "metadata": {
        "colab": {
          "base_uri": "https://localhost:8080/"
        },
        "id": "3Vf28gb-2XaB",
        "outputId": "46aa4a45-f53c-46d3-b9c3-c2508bab1e43"
      },
      "execution_count": null,
      "outputs": [
        {
          "output_type": "stream",
          "name": "stdout",
          "text": [
            "1\n",
            "2\n"
          ]
        }
      ]
    },
    {
      "cell_type": "markdown",
      "source": [
        "# Problem Statement\n",
        "# Print a square of star"
      ],
      "metadata": {
        "id": "TR9ktGuJ3tA5"
      }
    },
    {
      "cell_type": "code",
      "source": [
        "for i in range(4):\n",
        "    for j in range(8):\n",
        "        print(\"*\", end = \"\")\n",
        "    print()"
      ],
      "metadata": {
        "colab": {
          "base_uri": "https://localhost:8080/"
        },
        "id": "nswpZbXK4QzZ",
        "outputId": "3bbc72aa-ef8b-43ce-ed68-5658b774f314"
      },
      "execution_count": null,
      "outputs": [
        {
          "output_type": "stream",
          "name": "stdout",
          "text": [
            "********\n",
            "********\n",
            "********\n",
            "********\n"
          ]
        }
      ]
    },
    {
      "cell_type": "markdown",
      "source": [
        "Q3.  Compare and contrast mutable and immutable objects in Python with examples?\n",
        "\n",
        "   -> In Python, objects can be classified into two categories: mutable and immutable.\n",
        "    \n",
        "    #Mutable\n",
        "    Definition: Can be changed after creation\n",
        "\n",
        "    Examples: list, dict, set, bytearray\n",
        "\n",
        "\n",
        "   #Immutable\n",
        "   Definition: Cannot be changed after creation\n",
        "\n",
        "   Examples: int, float, str, tuple, frozenset\n",
        "\n",
        "\n",
        "   #Mutable Example  \n",
        "  "
      ],
      "metadata": {
        "id": "9_eyKvrN6oih"
      }
    },
    {
      "cell_type": "code",
      "source": [
        "list_cont = [1,2,3,50,60,\"ajay\",\"aman\"]\n",
        "list_cont"
      ],
      "metadata": {
        "colab": {
          "base_uri": "https://localhost:8080/"
        },
        "id": "ctLkJstd6eLm",
        "outputId": "fe50aebd-b6d2-48fd-a933-427f6367ab7d"
      },
      "execution_count": null,
      "outputs": [
        {
          "output_type": "execute_result",
          "data": {
            "text/plain": [
              "[1, 2, 3, 50, 60, 'ajay', 'aman']"
            ]
          },
          "metadata": {},
          "execution_count": 56
        }
      ]
    },
    {
      "cell_type": "code",
      "source": [
        "list_cont[0] = 100"
      ],
      "metadata": {
        "id": "VMREnQxzASyM"
      },
      "execution_count": null,
      "outputs": []
    },
    {
      "cell_type": "code",
      "source": [
        "list_cont"
      ],
      "metadata": {
        "colab": {
          "base_uri": "https://localhost:8080/"
        },
        "id": "8GnD9wwiAUKa",
        "outputId": "ac9c0abd-d0c3-478d-e40e-8b16868e0ba2"
      },
      "execution_count": null,
      "outputs": [
        {
          "output_type": "execute_result",
          "data": {
            "text/plain": [
              "[100, 2, 3, 50, 60, 'ajay', 'aman']"
            ]
          },
          "metadata": {},
          "execution_count": 58
        }
      ]
    },
    {
      "cell_type": "markdown",
      "source": [
        "# Immutable\n",
        " string is a type of immutable object"
      ],
      "metadata": {
        "id": "AJnnZ726AYn-"
      }
    },
    {
      "cell_type": "code",
      "source": [
        "x = \"Aman\"\n",
        "x"
      ],
      "metadata": {
        "colab": {
          "base_uri": "https://localhost:8080/",
          "height": 35
        },
        "id": "Yk6mrceZAsvO",
        "outputId": "f6ccd0fb-a6a3-4751-8e2b-b0476f11b73b"
      },
      "execution_count": null,
      "outputs": [
        {
          "output_type": "execute_result",
          "data": {
            "text/plain": [
              "'Aman'"
            ],
            "application/vnd.google.colaboratory.intrinsic+json": {
              "type": "string"
            }
          },
          "metadata": {},
          "execution_count": 60
        }
      ]
    },
    {
      "cell_type": "code",
      "source": [
        "x[0] = \"y\""
      ],
      "metadata": {
        "colab": {
          "base_uri": "https://localhost:8080/",
          "height": 141
        },
        "id": "j14c6AcWAXKt",
        "outputId": "fc8d5bd4-55b8-4b3b-8376-580c346286c8"
      },
      "execution_count": null,
      "outputs": [
        {
          "output_type": "error",
          "ename": "TypeError",
          "evalue": "'str' object does not support item assignment",
          "traceback": [
            "\u001b[0;31m---------------------------------------------------------------------------\u001b[0m",
            "\u001b[0;31mTypeError\u001b[0m                                 Traceback (most recent call last)",
            "\u001b[0;32m<ipython-input-62-f5c2f7ed49c8>\u001b[0m in \u001b[0;36m<cell line: 0>\u001b[0;34m()\u001b[0m\n\u001b[0;32m----> 1\u001b[0;31m \u001b[0mx\u001b[0m\u001b[0;34m[\u001b[0m\u001b[0;36m0\u001b[0m\u001b[0;34m]\u001b[0m \u001b[0;34m=\u001b[0m \u001b[0;34m\"y\"\u001b[0m\u001b[0;34m\u001b[0m\u001b[0;34m\u001b[0m\u001b[0m\n\u001b[0m",
            "\u001b[0;31mTypeError\u001b[0m: 'str' object does not support item assignment"
          ]
        }
      ]
    },
    {
      "cell_type": "markdown",
      "source": [
        "Q4.  Discuss the different types of operators in Python and provide examples of how they are used?\n",
        "\n",
        "  -> Operator is a special keywords to perform operations.There are several types of operators, each serving a different purpose.\n",
        "\n",
        "  # Arithmetic Operation"
      ],
      "metadata": {
        "id": "yfeZfOxFBkTU"
      }
    },
    {
      "cell_type": "code",
      "source": [
        "x = 3\n",
        "y = 5\n",
        "print(x+y)\n",
        "print(y-x)\n",
        "print(x*y)\n"
      ],
      "metadata": {
        "colab": {
          "base_uri": "https://localhost:8080/"
        },
        "id": "qzzcYTnzCoXJ",
        "outputId": "0d2bf4fe-e934-4e63-c593-6c13cffa972a"
      },
      "execution_count": null,
      "outputs": [
        {
          "output_type": "stream",
          "name": "stdout",
          "text": [
            "8\n",
            "2\n",
            "15\n"
          ]
        }
      ]
    },
    {
      "cell_type": "markdown",
      "source": [
        "# Comparison Operators\n",
        "     Used to compare values"
      ],
      "metadata": {
        "id": "p6yWk8OlDoLc"
      }
    },
    {
      "cell_type": "code",
      "source": [
        "print(5>3)\n",
        "print(5 == 10)"
      ],
      "metadata": {
        "colab": {
          "base_uri": "https://localhost:8080/"
        },
        "id": "fI733amPCxBn",
        "outputId": "c8159126-9b2b-49cd-9ace-fb9ff49a341e"
      },
      "execution_count": null,
      "outputs": [
        {
          "output_type": "stream",
          "name": "stdout",
          "text": [
            "True\n",
            "False\n"
          ]
        }
      ]
    },
    {
      "cell_type": "markdown",
      "source": [
        "# Membership operator\n",
        "    Value exists in sequence\n",
        "  "
      ],
      "metadata": {
        "id": "8SJOQcRSET3b"
      }
    },
    {
      "cell_type": "code",
      "source": [
        "a = \"PWSKILLS\"\n",
        "\n",
        "\"P\" in a\n"
      ],
      "metadata": {
        "colab": {
          "base_uri": "https://localhost:8080/"
        },
        "id": "Y6CpXV_aEFHo",
        "outputId": "e4ab8a80-a646-4d69-e1d6-2ec40bf59d6b"
      },
      "execution_count": null,
      "outputs": [
        {
          "output_type": "execute_result",
          "data": {
            "text/plain": [
              "True"
            ]
          },
          "metadata": {},
          "execution_count": 75
        }
      ]
    },
    {
      "cell_type": "code",
      "source": [
        "\"data\" in \"PWSKILLS\""
      ],
      "metadata": {
        "colab": {
          "base_uri": "https://localhost:8080/"
        },
        "id": "NoV_tpF-E5lw",
        "outputId": "ffc6a5fd-f54a-4fd6-9f51-d6bbe6612296"
      },
      "execution_count": null,
      "outputs": [
        {
          "output_type": "execute_result",
          "data": {
            "text/plain": [
              "False"
            ]
          },
          "metadata": {},
          "execution_count": 76
        }
      ]
    },
    {
      "cell_type": "markdown",
      "source": [
        "#  Identity operator\n",
        "     compare the memory location of two object\n"
      ],
      "metadata": {
        "id": "p9VTqbXIFUfx"
      }
    },
    {
      "cell_type": "code",
      "source": [
        "x=5\n",
        "y=10\n",
        "x is y"
      ],
      "metadata": {
        "colab": {
          "base_uri": "https://localhost:8080/"
        },
        "id": "9IdubEbXE-bX",
        "outputId": "5b526925-5be7-4c5c-d8a8-75cf415d08aa"
      },
      "execution_count": null,
      "outputs": [
        {
          "output_type": "execute_result",
          "data": {
            "text/plain": [
              "False"
            ]
          },
          "metadata": {},
          "execution_count": 78
        }
      ]
    },
    {
      "cell_type": "code",
      "source": [
        "x = \"aman\"\n",
        "y = \"nihal\"\n",
        "x is y"
      ],
      "metadata": {
        "colab": {
          "base_uri": "https://localhost:8080/"
        },
        "id": "meuj_woFFox0",
        "outputId": "2d19bc99-9ed7-4dae-8e34-c84787f6c373"
      },
      "execution_count": null,
      "outputs": [
        {
          "output_type": "execute_result",
          "data": {
            "text/plain": [
              "False"
            ]
          },
          "metadata": {},
          "execution_count": 79
        }
      ]
    },
    {
      "cell_type": "markdown",
      "source": [
        "# Bitwise operator\n",
        "   Operation at bit level"
      ],
      "metadata": {
        "id": "ljpoGMaBGNHe"
      }
    },
    {
      "cell_type": "code",
      "source": [
        "bin(7)\n"
      ],
      "metadata": {
        "colab": {
          "base_uri": "https://localhost:8080/",
          "height": 35
        },
        "id": "qUvor59XF4XI",
        "outputId": "dcc8eb77-3737-4096-c13e-27e06fad3749"
      },
      "execution_count": null,
      "outputs": [
        {
          "output_type": "execute_result",
          "data": {
            "text/plain": [
              "'0b111'"
            ],
            "application/vnd.google.colaboratory.intrinsic+json": {
              "type": "string"
            }
          },
          "metadata": {},
          "execution_count": 83
        }
      ]
    },
    {
      "cell_type": "markdown",
      "source": [
        "Q5. Explain the concept of type casting in Python with examples?\n",
        "   -> It is the process of converting one data type into another. Python provides two types of type casting: implicit and explicit.\n",
        "\n",
        "     #Implicit Type Casting\n",
        "       Python automatically converts one data type to another during an operation."
      ],
      "metadata": {
        "id": "mhJIylPaHhUk"
      }
    },
    {
      "cell_type": "code",
      "source": [
        "x = 100\n",
        "y = 2.0\n",
        "z = x + y\n",
        "print(z)\n"
      ],
      "metadata": {
        "colab": {
          "base_uri": "https://localhost:8080/"
        },
        "id": "8oVwSkMTIrRD",
        "outputId": "6de95609-66c6-4b58-a16e-236e67c50f90"
      },
      "execution_count": null,
      "outputs": [
        {
          "output_type": "stream",
          "name": "stdout",
          "text": [
            "102.0\n"
          ]
        }
      ]
    },
    {
      "cell_type": "markdown",
      "source": [
        "#Explicit Type Casting:\n",
        "  You manually convert one data type into another using functions like:\n",
        "  \n",
        "   int()\n",
        "\n",
        "   \n",
        "   float()\n",
        "   \n",
        "   str()\n",
        "   \n",
        "   bool()"
      ],
      "metadata": {
        "id": "2_VywSw2JNTk"
      }
    },
    {
      "cell_type": "code",
      "source": [
        "x = \"100\"\n",
        "y = int(x)\n",
        "print (y)"
      ],
      "metadata": {
        "colab": {
          "base_uri": "https://localhost:8080/"
        },
        "id": "SRQ3AsirKMp6",
        "outputId": "fb849f8a-ea00-4dcc-e6a4-436a7d7aabc7"
      },
      "execution_count": null,
      "outputs": [
        {
          "output_type": "stream",
          "name": "stdout",
          "text": [
            "100\n"
          ]
        }
      ]
    },
    {
      "cell_type": "code",
      "source": [
        "x = \"100\"\n",
        "y = float(x)\n",
        "print(y)\n"
      ],
      "metadata": {
        "colab": {
          "base_uri": "https://localhost:8080/"
        },
        "id": "YN5YX5nVKgPe",
        "outputId": "437cae59-78f8-4dca-81d0-d3ac5a1af0fb"
      },
      "execution_count": null,
      "outputs": [
        {
          "output_type": "stream",
          "name": "stdout",
          "text": [
            "100.0\n"
          ]
        }
      ]
    },
    {
      "cell_type": "markdown",
      "source": [
        "Q6. How do conditional statements work in Python? Illustrate with examples?\n",
        "\n",
        "   -> Conditional statements in Python are used to execute certain blocks of code based on whether a condition is true or false. The main conditional statements in Python are:\n",
        "\n",
        "    a. if statement\n",
        "       The if statement is used to execute a block of code if a certain condition is true"
      ],
      "metadata": {
        "id": "BNjLcHa8LZgf"
      }
    },
    {
      "cell_type": "code",
      "source": [
        "x = 10\n",
        "if x > 5:\n",
        "    print(\"x is greater than 5\")"
      ],
      "metadata": {
        "colab": {
          "base_uri": "https://localhost:8080/"
        },
        "id": "zB4Za2HAMm-r",
        "outputId": "4cb82789-f727-48ac-da4d-273c5caeec37"
      },
      "execution_count": null,
      "outputs": [
        {
          "output_type": "stream",
          "name": "stdout",
          "text": [
            "x is greater than 5\n"
          ]
        }
      ]
    },
    {
      "cell_type": "markdown",
      "source": [
        "  b. If, else statement"
      ],
      "metadata": {
        "id": "vtVR8RB8M7x0"
      }
    },
    {
      "cell_type": "code",
      "source": [
        "age = 10\n",
        "if age>= 18:\n",
        "  print(\"you will served alchol\")\n",
        "else:\n",
        "  print(\"get out of bar\")"
      ],
      "metadata": {
        "colab": {
          "base_uri": "https://localhost:8080/"
        },
        "id": "vu4NK0zMKtWo",
        "outputId": "493f6ed3-d92e-4034-9a47-5b49fe091c35"
      },
      "execution_count": null,
      "outputs": [
        {
          "output_type": "stream",
          "name": "stdout",
          "text": [
            "get out of bar\n"
          ]
        }
      ]
    },
    {
      "cell_type": "markdown",
      "source": [
        "Q7.   Describe the different types of loops in Python and their use cases with examples?\n",
        "\n",
        "  -> Loops in python allows you to execute a block code repeatedly.\n",
        "\n",
        "    Two primary types of loops are:\n",
        "    1. for loops\n",
        "    2. while loops\n",
        "\n",
        "    "
      ],
      "metadata": {
        "id": "rFZ9E-crNLdg"
      }
    },
    {
      "cell_type": "markdown",
      "source": [
        "#for loops\n",
        "   loops are used for iterating over a sequence of elements."
      ],
      "metadata": {
        "id": "k26lyiywuzM-"
      }
    },
    {
      "cell_type": "code",
      "source": [
        "names=(\"aman\",\"nihal\",\"ravi\")\n",
        "for name in names:\n",
        "  print (name)"
      ],
      "metadata": {
        "id": "3OaYQWNtM6sG",
        "colab": {
          "base_uri": "https://localhost:8080/"
        },
        "outputId": "aaa03e60-3dee-4043-fe94-5d88fe6abb68"
      },
      "execution_count": null,
      "outputs": [
        {
          "output_type": "stream",
          "name": "stdout",
          "text": [
            "aman\n",
            "nihal\n",
            "ravi\n"
          ]
        }
      ]
    },
    {
      "cell_type": "markdown",
      "source": [
        "# while loops\n",
        "    while loops are used for executing code until a specified condition becomes False."
      ],
      "metadata": {
        "id": "CI0iggH2ubfA"
      }
    },
    {
      "cell_type": "code",
      "source": [
        "count=5\n",
        "while count>0:\n",
        "  print(count)\n",
        "  count=count-1"
      ],
      "metadata": {
        "id": "pV47zynRtUKW",
        "colab": {
          "base_uri": "https://localhost:8080/"
        },
        "outputId": "2b3fa50a-3057-4a59-c48c-7a977b806417"
      },
      "execution_count": 7,
      "outputs": [
        {
          "output_type": "stream",
          "name": "stdout",
          "text": [
            "5\n",
            "4\n",
            "3\n",
            "2\n",
            "1\n"
          ]
        }
      ]
    },
    {
      "cell_type": "code",
      "source": [
        "i = 0\n",
        "while i < 10:\n",
        "    print(i)\n",
        "    i += 1"
      ],
      "metadata": {
        "colab": {
          "base_uri": "https://localhost:8080/"
        },
        "id": "WIrYSI7-xOzL",
        "outputId": "09362bd6-5e17-439b-e6b4-7b2da4d9fb16"
      },
      "execution_count": 10,
      "outputs": [
        {
          "output_type": "stream",
          "name": "stdout",
          "text": [
            "0\n",
            "1\n",
            "2\n",
            "3\n",
            "4\n",
            "5\n",
            "6\n",
            "7\n",
            "8\n",
            "9\n"
          ]
        }
      ]
    },
    {
      "cell_type": "markdown",
      "source": [
        "# Break\n",
        "   \n",
        "   Used to exit the loop prematurely"
      ],
      "metadata": {
        "id": "rN9u03NJyRMp"
      }
    },
    {
      "cell_type": "code",
      "source": [
        "for i in range(10):\n",
        "    if i == 5:\n",
        "        break\n",
        "    print(i)"
      ],
      "metadata": {
        "colab": {
          "base_uri": "https://localhost:8080/"
        },
        "id": "b11MqzWixQ9_",
        "outputId": "cc500f8c-72ff-4b4a-e975-f1b1f533af7e"
      },
      "execution_count": 11,
      "outputs": [
        {
          "output_type": "stream",
          "name": "stdout",
          "text": [
            "0\n",
            "1\n",
            "2\n",
            "3\n",
            "4\n"
          ]
        }
      ]
    },
    {
      "cell_type": "markdown",
      "source": [],
      "metadata": {
        "id": "Nv7a8cnNyibQ"
      }
    },
    {
      "cell_type": "code",
      "source": [],
      "metadata": {
        "id": "nv4N2Vz3ygkv"
      },
      "execution_count": null,
      "outputs": []
    }
  ]
}